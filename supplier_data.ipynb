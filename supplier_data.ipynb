{
 "cells": [
  {
   "cell_type": "code",
   "execution_count": 39,
   "id": "1998ebca",
   "metadata": {},
   "outputs": [
    {
     "name": "stderr",
     "output_type": "stream",
     "text": [
      "\n",
      "Attaching package: ‘readr’\n",
      "\n",
      "\n",
      "The following object is masked from ‘package:rvest’:\n",
      "\n",
      "    guess_encoding\n",
      "\n",
      "\n"
     ]
    }
   ],
   "source": [
    "library(rvest)\n",
    "library(dplyr)\n",
    "library(readr)\n",
    "library(tidyr)\n",
    "library(stringr)\n",
    "library(janitor)"
   ]
  },
  {
   "cell_type": "code",
   "execution_count": 40,
   "id": "640b30c8",
   "metadata": {},
   "outputs": [],
   "source": [
    "pop <- read_html(\"https://csimarket.com/stocks/competitionNO2.php?supply&code=INTC\")\n"
   ]
  },
  {
   "cell_type": "code",
   "execution_count": 53,
   "id": "eff86c47",
   "metadata": {},
   "outputs": [
    {
     "name": "stderr",
     "output_type": "stream",
     "text": [
      "Warning message:\n",
      "“43 parsing failures.\n",
      "row col expected actual\n",
      "  2  -- a number      -\n",
      "  3  -- a number      -\n",
      " 15  -- a number      -\n",
      " 16  -- a number      -\n",
      " 17  -- a number      -\n",
      "... ... ........ ......\n",
      "See problems(...) for more details.\n",
      "”\n",
      "Warning message:\n",
      "“43 parsing failures.\n",
      "row col expected actual\n",
      "  2  -- a number      -\n",
      "  3  -- a number      -\n",
      " 15  -- a number      -\n",
      " 16  -- a number      -\n",
      " 17  -- a number      -\n",
      "... ... ........ ......\n",
      "See problems(...) for more details.\n",
      "”\n",
      "Warning message:\n",
      "“43 parsing failures.\n",
      "row col expected actual\n",
      "  2  -- a number      -\n",
      "  3  -- a number      -\n",
      " 15  -- a number      -\n",
      " 16  -- a number      -\n",
      " 17  -- a number      -\n",
      "... ... ........ ......\n",
      "See problems(...) for more details.\n",
      "”\n",
      "Warning message:\n",
      "“43 parsing failures.\n",
      "row col expected actual\n",
      "  2  -- a number      -\n",
      "  3  -- a number      -\n",
      " 15  -- a number      -\n",
      " 16  -- a number      -\n",
      " 17  -- a number      -\n",
      "... ... ........ ......\n",
      "See problems(...) for more details.\n",
      "”\n",
      "Warning message:\n",
      "“43 parsing failures.\n",
      "row col expected actual\n",
      "  2  -- a number      -\n",
      "  3  -- a number      -\n",
      " 15  -- a number      -\n",
      " 16  -- a number      -\n",
      " 17  -- a number      -\n",
      "... ... ........ ......\n",
      "See problems(...) for more details.\n",
      "”\n"
     ]
    },
    {
     "data": {
      "text/html": [
       "<style>\n",
       ".list-inline {list-style: none; margin:0; padding: 0}\n",
       ".list-inline>li {display: inline-block}\n",
       ".list-inline>li:not(:last-child)::after {content: \"\\00b7\"; padding: 0 .5ex}\n",
       "</style>\n",
       "<ol class=list-inline><li>'.'</li><li>'.'</li><li>'.'</li><li>'.'</li><li>'.'</li><li>'.'</li><li>'.'</li></ol>\n"
      ],
      "text/latex": [
       "\\begin{enumerate*}\n",
       "\\item '.'\n",
       "\\item '.'\n",
       "\\item '.'\n",
       "\\item '.'\n",
       "\\item '.'\n",
       "\\item '.'\n",
       "\\item '.'\n",
       "\\end{enumerate*}\n"
      ],
      "text/markdown": [
       "1. '.'\n",
       "2. '.'\n",
       "3. '.'\n",
       "4. '.'\n",
       "5. '.'\n",
       "6. '.'\n",
       "7. '.'\n",
       "\n",
       "\n"
      ],
      "text/plain": [
       "[1] \".\" \".\" \".\" \".\" \".\" \".\" \".\""
      ]
     },
     "metadata": {},
     "output_type": "display_data"
    },
    {
     "data": {
      "text/html": [
       "<table class=\"dataframe\">\n",
       "<caption>A data.frame: 6 × 7</caption>\n",
       "<thead>\n",
       "\t<tr><th></th><th scope=col>company_name</th><th scope=col>ticker</th><th scope=col>one_day</th><th scope=col>five_days</th><th scope=col>thirty_days</th><th scope=col>ninety_days</th><th scope=col>ytd</th></tr>\n",
       "\t<tr><th></th><th scope=col>&lt;chr&gt;</th><th scope=col>&lt;chr&gt;</th><th scope=col>&lt;dbl&gt;</th><th scope=col>&lt;dbl&gt;</th><th scope=col>&lt;dbl&gt;</th><th scope=col>&lt;dbl&gt;</th><th scope=col>&lt;dbl&gt;</th></tr>\n",
       "</thead>\n",
       "<tbody>\n",
       "\t<tr><th scope=row>1</th><td>Intel Corporation         </td><td>INTC </td><td> 1.21</td><td> 3.92</td><td>-5.67</td><td>-5.53</td><td> 2.52</td></tr>\n",
       "\t<tr><th scope=row>2</th><td>Rare Element Resources Ltd</td><td>REE  </td><td>   NA</td><td>   NA</td><td>   NA</td><td>   NA</td><td>   NA</td></tr>\n",
       "\t<tr><th scope=row>3</th><td>Niocorp Developments Ltd  </td><td>NIOBF</td><td>   NA</td><td>   NA</td><td>   NA</td><td>   NA</td><td>   NA</td></tr>\n",
       "\t<tr><th scope=row>4</th><td>3m Company                </td><td>MMM  </td><td> 0.65</td><td> 1.73</td><td> 1.89</td><td>-7.97</td><td> 5.77</td></tr>\n",
       "\t<tr><th scope=row>5</th><td>Applied Materials Inc     </td><td>AMAT </td><td> 2.10</td><td>12.18</td><td>21.16</td><td> 7.38</td><td>76.46</td></tr>\n",
       "\t<tr><th scope=row>6</th><td>Dover Corp                </td><td>DOV  </td><td>-0.44</td><td> 1.36</td><td> 7.74</td><td> 1.97</td><td>38.95</td></tr>\n",
       "</tbody>\n",
       "</table>\n"
      ],
      "text/latex": [
       "A data.frame: 6 × 7\n",
       "\\begin{tabular}{r|lllllll}\n",
       "  & company\\_name & ticker & one\\_day & five\\_days & thirty\\_days & ninety\\_days & ytd\\\\\n",
       "  & <chr> & <chr> & <dbl> & <dbl> & <dbl> & <dbl> & <dbl>\\\\\n",
       "\\hline\n",
       "\t1 & Intel Corporation          & INTC  &  1.21 &  3.92 & -5.67 & -5.53 &  2.52\\\\\n",
       "\t2 & Rare Element Resources Ltd & REE   &    NA &    NA &    NA &    NA &    NA\\\\\n",
       "\t3 & Niocorp Developments Ltd   & NIOBF &    NA &    NA &    NA &    NA &    NA\\\\\n",
       "\t4 & 3m Company                 & MMM   &  0.65 &  1.73 &  1.89 & -7.97 &  5.77\\\\\n",
       "\t5 & Applied Materials Inc      & AMAT  &  2.10 & 12.18 & 21.16 &  7.38 & 76.46\\\\\n",
       "\t6 & Dover Corp                 & DOV   & -0.44 &  1.36 &  7.74 &  1.97 & 38.95\\\\\n",
       "\\end{tabular}\n"
      ],
      "text/markdown": [
       "\n",
       "A data.frame: 6 × 7\n",
       "\n",
       "| <!--/--> | company_name &lt;chr&gt; | ticker &lt;chr&gt; | one_day &lt;dbl&gt; | five_days &lt;dbl&gt; | thirty_days &lt;dbl&gt; | ninety_days &lt;dbl&gt; | ytd &lt;dbl&gt; |\n",
       "|---|---|---|---|---|---|---|---|\n",
       "| 1 | Intel Corporation          | INTC  |  1.21 |  3.92 | -5.67 | -5.53 |  2.52 |\n",
       "| 2 | Rare Element Resources Ltd | REE   |    NA |    NA |    NA |    NA |    NA |\n",
       "| 3 | Niocorp Developments Ltd   | NIOBF |    NA |    NA |    NA |    NA |    NA |\n",
       "| 4 | 3m Company                 | MMM   |  0.65 |  1.73 |  1.89 | -7.97 |  5.77 |\n",
       "| 5 | Applied Materials Inc      | AMAT  |  2.10 | 12.18 | 21.16 |  7.38 | 76.46 |\n",
       "| 6 | Dover Corp                 | DOV   | -0.44 |  1.36 |  7.74 |  1.97 | 38.95 |\n",
       "\n"
      ],
      "text/plain": [
       "  company_name               ticker one_day five_days thirty_days ninety_days\n",
       "1 Intel Corporation          INTC    1.21    3.92     -5.67       -5.53      \n",
       "2 Rare Element Resources Ltd REE       NA      NA        NA          NA      \n",
       "3 Niocorp Developments Ltd   NIOBF     NA      NA        NA          NA      \n",
       "4 3m Company                 MMM     0.65    1.73      1.89       -7.97      \n",
       "5 Applied Materials Inc      AMAT    2.10   12.18     21.16        7.38      \n",
       "6 Dover Corp                 DOV    -0.44    1.36      7.74        1.97      \n",
       "  ytd  \n",
       "1  2.52\n",
       "2    NA\n",
       "3    NA\n",
       "4  5.77\n",
       "5 76.46\n",
       "6 38.95"
      ]
     },
     "metadata": {},
     "output_type": "display_data"
    }
   ],
   "source": [
    "company_name <- paste(\".block a\",sep=\",\")\n",
    "company_name_node <- html_nodes(pop, company_name)\n",
    "company_name_text <- html_text(company_name_node)%>% data.frame()\n",
    "\n",
    "ticker <- paste(\".ff00\",\".dae\",sep=\",\")\n",
    "ticker_node <- html_nodes(pop, ticker)\n",
    "ticker_text <- html_text(ticker_node)%>% data.frame()\n",
    "\n",
    "one_day<- paste(\".ff00+ .ac\" , \".dae+ .f11\", sep=\",\")\n",
    "one_day_node <- html_nodes(pop, one_day)\n",
    "one_day_text <- html_text(one_day_node)%>% parse_number()%>%data.frame()\n",
    "\n",
    "five_days <- paste(\".ddd:nth-child(4)\" , \".subcomp11:nth-child(4)\", sep= \",\")\n",
    "five_days_node <- html_nodes(pop, five_days)\n",
    "five_days_text <- html_text(five_days_node)%>% parse_number()%>%data.frame()\n",
    "\n",
    "thirty_days <- paste(\".subcomp11:nth-child(5)\" , \".svjetlirub:nth-child(5)\", sep= \",\")\n",
    "thirty_days_node <- html_nodes(pop, thirty_days)\n",
    "thirty_days_text <- html_text(thirty_days_node)%>% parse_number()%>%data.frame()\n",
    "\n",
    "ninety_days <- paste(\".subcomp11:nth-child(6)\" , \".ddd~ .ddd\", sep= \",\")\n",
    "ninety_days_node <- html_nodes(pop, ninety_days)\n",
    "ninety_days_text <- html_text(ninety_days_node)%>% parse_number()%>%data.frame()\n",
    "\n",
    "year <- paste(\".subcomp11:nth-child(7)\", \".svjetlirub:nth-child(7)\",sep=\",\")\n",
    "year_nodes <- html_nodes(pop, year)\n",
    "year_text <- html_text(year_nodes)%>% parse_number()%>%data.frame()\n",
    "\n",
    "suppliers_data <- cbind(company_name_text, ticker_text, one_day_text, five_days_text, thirty_days_text, ninety_days_text, year_text)\n",
    "colnames(suppliers_data, do.NULL = FALSE)\n",
    "colnames(suppliers_data) <- c(\"company_name\",\"ticker\", \"one_day\", \"five_days\", \"thirty_days\",\"ninety_days\", \"ytd\")\n",
    "head(suppliers_data)"
   ]
  },
  {
   "cell_type": "code",
   "execution_count": 54,
   "id": "1b9bb0ee",
   "metadata": {},
   "outputs": [
    {
     "data": {
      "text/html": [
       "<table class=\"dataframe\">\n",
       "<caption>A data.frame: 6 × 7</caption>\n",
       "<thead>\n",
       "\t<tr><th></th><th scope=col>company_name</th><th scope=col>ticker</th><th scope=col>one_day</th><th scope=col>five_days</th><th scope=col>thirty_days</th><th scope=col>ninety_days</th><th scope=col>ytd</th></tr>\n",
       "\t<tr><th></th><th scope=col>&lt;chr&gt;</th><th scope=col>&lt;chr&gt;</th><th scope=col>&lt;dbl&gt;</th><th scope=col>&lt;dbl&gt;</th><th scope=col>&lt;dbl&gt;</th><th scope=col>&lt;dbl&gt;</th><th scope=col>&lt;dbl&gt;</th></tr>\n",
       "</thead>\n",
       "<tbody>\n",
       "\t<tr><th scope=row>1</th><td>Intel Corporation         </td><td>INTC </td><td> 1.21</td><td> 3.92</td><td>-5.67</td><td>-5.53</td><td> 2.52</td></tr>\n",
       "\t<tr><th scope=row>2</th><td>Rare Element Resources Ltd</td><td>REE  </td><td>   NA</td><td>   NA</td><td>   NA</td><td>   NA</td><td>   NA</td></tr>\n",
       "\t<tr><th scope=row>3</th><td>Niocorp Developments Ltd  </td><td>NIOBF</td><td>   NA</td><td>   NA</td><td>   NA</td><td>   NA</td><td>   NA</td></tr>\n",
       "\t<tr><th scope=row>4</th><td>3m Company                </td><td>MMM  </td><td> 0.65</td><td> 1.73</td><td> 1.89</td><td>-7.97</td><td> 5.77</td></tr>\n",
       "\t<tr><th scope=row>5</th><td>Applied Materials Inc     </td><td>AMAT </td><td> 2.10</td><td>12.18</td><td>21.16</td><td> 7.38</td><td>76.46</td></tr>\n",
       "\t<tr><th scope=row>6</th><td>Dover Corp                </td><td>DOV  </td><td>-0.44</td><td> 1.36</td><td> 7.74</td><td> 1.97</td><td>38.95</td></tr>\n",
       "</tbody>\n",
       "</table>\n"
      ],
      "text/latex": [
       "A data.frame: 6 × 7\n",
       "\\begin{tabular}{r|lllllll}\n",
       "  & company\\_name & ticker & one\\_day & five\\_days & thirty\\_days & ninety\\_days & ytd\\\\\n",
       "  & <chr> & <chr> & <dbl> & <dbl> & <dbl> & <dbl> & <dbl>\\\\\n",
       "\\hline\n",
       "\t1 & Intel Corporation          & INTC  &  1.21 &  3.92 & -5.67 & -5.53 &  2.52\\\\\n",
       "\t2 & Rare Element Resources Ltd & REE   &    NA &    NA &    NA &    NA &    NA\\\\\n",
       "\t3 & Niocorp Developments Ltd   & NIOBF &    NA &    NA &    NA &    NA &    NA\\\\\n",
       "\t4 & 3m Company                 & MMM   &  0.65 &  1.73 &  1.89 & -7.97 &  5.77\\\\\n",
       "\t5 & Applied Materials Inc      & AMAT  &  2.10 & 12.18 & 21.16 &  7.38 & 76.46\\\\\n",
       "\t6 & Dover Corp                 & DOV   & -0.44 &  1.36 &  7.74 &  1.97 & 38.95\\\\\n",
       "\\end{tabular}\n"
      ],
      "text/markdown": [
       "\n",
       "A data.frame: 6 × 7\n",
       "\n",
       "| <!--/--> | company_name &lt;chr&gt; | ticker &lt;chr&gt; | one_day &lt;dbl&gt; | five_days &lt;dbl&gt; | thirty_days &lt;dbl&gt; | ninety_days &lt;dbl&gt; | ytd &lt;dbl&gt; |\n",
       "|---|---|---|---|---|---|---|---|\n",
       "| 1 | Intel Corporation          | INTC  |  1.21 |  3.92 | -5.67 | -5.53 |  2.52 |\n",
       "| 2 | Rare Element Resources Ltd | REE   |    NA |    NA |    NA |    NA |    NA |\n",
       "| 3 | Niocorp Developments Ltd   | NIOBF |    NA |    NA |    NA |    NA |    NA |\n",
       "| 4 | 3m Company                 | MMM   |  0.65 |  1.73 |  1.89 | -7.97 |  5.77 |\n",
       "| 5 | Applied Materials Inc      | AMAT  |  2.10 | 12.18 | 21.16 |  7.38 | 76.46 |\n",
       "| 6 | Dover Corp                 | DOV   | -0.44 |  1.36 |  7.74 |  1.97 | 38.95 |\n",
       "\n"
      ],
      "text/plain": [
       "  company_name               ticker one_day five_days thirty_days ninety_days\n",
       "1 Intel Corporation          INTC    1.21    3.92     -5.67       -5.53      \n",
       "2 Rare Element Resources Ltd REE       NA      NA        NA          NA      \n",
       "3 Niocorp Developments Ltd   NIOBF     NA      NA        NA          NA      \n",
       "4 3m Company                 MMM     0.65    1.73      1.89       -7.97      \n",
       "5 Applied Materials Inc      AMAT    2.10   12.18     21.16        7.38      \n",
       "6 Dover Corp                 DOV    -0.44    1.36      7.74        1.97      \n",
       "  ytd  \n",
       "1  2.52\n",
       "2    NA\n",
       "3    NA\n",
       "4  5.77\n",
       "5 76.46\n",
       "6 38.95"
      ]
     },
     "metadata": {},
     "output_type": "display_data"
    }
   ],
   "source": [
    "head(suppliers_data)"
   ]
  },
  {
   "cell_type": "code",
   "execution_count": 57,
   "id": "008d5c43",
   "metadata": {},
   "outputs": [],
   "source": [
    "suppliers_data <- drop_na(suppliers_data)"
   ]
  },
  {
   "cell_type": "code",
   "execution_count": null,
   "id": "64d7364d",
   "metadata": {},
   "outputs": [],
   "source": []
  }
 ],
 "metadata": {
  "kernelspec": {
   "display_name": "R",
   "language": "R",
   "name": "ir"
  },
  "language_info": {
   "codemirror_mode": "r",
   "file_extension": ".r",
   "mimetype": "text/x-r-source",
   "name": "R",
   "pygments_lexer": "r",
   "version": "4.1.1"
  }
 },
 "nbformat": 4,
 "nbformat_minor": 5
}

{
 "cells": [
  {
   "cell_type": "markdown",
   "id": "11475618-1706-4aa0-b053-f63c4319cee0",
   "metadata": {},
   "source": [
    "# Project Proposal\n"
   ]
  },
  {
   "cell_type": "markdown",
   "id": "0206ae45-1652-48cf-b0a3-8a70aa362d4f",
   "metadata": {},
   "source": [
    "**Yiou Long, Nikko Dumrique, Andres Zepeda, Medha Singh**\n",
    "\n",
    "`Monday November 1st 2021`"
   ]
  },
  {
   "cell_type": "markdown",
   "id": "0b3eaeb3-d0ea-4615-ba31-0bcd48240e95",
   "metadata": {},
   "source": [
    "### Introduction"
   ]
  },
  {
   "cell_type": "markdown",
   "id": "08d791f5-a24e-4128-aa58-f001065cdb77",
   "metadata": {},
   "source": [
    "***!!!DELETE***\n",
    "\n",
    "Begin by providing some relevant background information on the topic so that someone unfamiliar with it will be prepared to understand the rest of your proposal.\n",
    "\n",
    "Clearly state the question you will try to answer with your project. Your question should involve one random variable of interest (the response) and one or more explanatory variables. Of the response variable, explain whether your project is focused on prediction, inference, or both.\n",
    "\n",
    "Identify and describe the dataset that will be used to answer the question. Remember, this dataset is allowed to contain more variables than you need, in fact, exploring how the different variables in the dataset affect your model, is a crucial part of the project.\n",
    "\n",
    "Also, be sure to frame your question/objectives in terms of what is already known in the literature. Be sure to include at least two scientific publications that can help frame your study (you will need to include these in the References section)."
   ]
  },
  {
   "cell_type": "code",
   "execution_count": null,
   "id": "214cb8a0-ee81-40c6-87aa-cf94ee3c5781",
   "metadata": {},
   "outputs": [],
   "source": []
  },
  {
   "cell_type": "code",
   "execution_count": null,
   "id": "7db38217-111d-4f0f-b807-ca2d95b4ebdd",
   "metadata": {},
   "outputs": [],
   "source": []
  },
  {
   "cell_type": "markdown",
   "id": "d898dd17-b635-4396-b05a-d515a0ef2571",
   "metadata": {},
   "source": [
    "### Exploratory Data Analysis (EDA)"
   ]
  },
  {
   "cell_type": "markdown",
   "id": "392c345c-122f-478c-b37e-a702aa474cec",
   "metadata": {},
   "source": [
    "***!!!DELETE***\n",
    "\n",
    "In this section, you will:\n",
    "\n",
    "Demonstrate that the dataset can be read from the web into R.\n",
    "Clean and wrangle your data into a tidy format.\n",
    "Plot the relevant raw data, tailoring your plot in a way that addresses your question.\n",
    "make sure to explore the association of the explanatory variables with the response.\n",
    "your Exploratory Data Analysis (EDA) must be comprehensive with high quality plots.\n",
    "Any summary tables that is relevant to your analysis.\n",
    "Be sure to not print output that takes up a lot of screen space."
   ]
  },
  {
   "cell_type": "code",
   "execution_count": null,
   "id": "8d65c438-3d8b-4142-910e-de17b38e921f",
   "metadata": {},
   "outputs": [],
   "source": []
  },
  {
   "cell_type": "code",
   "execution_count": null,
   "id": "a95a518f-c35e-49be-a592-d727dc1b85f3",
   "metadata": {},
   "outputs": [],
   "source": []
  },
  {
   "cell_type": "markdown",
   "id": "8652618e-9ac6-4def-ad67-f3d0b908d217",
   "metadata": {},
   "source": [
    "### Methods: Plan"
   ]
  },
  {
   "cell_type": "markdown",
   "id": "2ab55f33-c8f1-4e72-b535-1d1241ff9f02",
   "metadata": {},
   "source": [
    "***!!!DELETE***\n",
    "\n",
    "The previous sections will carry over to your final report (you’ll be allowed to improve them based on feedback you get). Begin this Methods section with a brief description of “the good things” about this report – specifically, in what ways is this report trustworthy?\n",
    "\n",
    "Finish this section by reflecting on how your final report might play out:\n",
    "\n",
    "What methods do you plan on using?\n",
    "What do you expect to achieve?\n",
    "What impact could your results have?"
   ]
  },
  {
   "cell_type": "code",
   "execution_count": null,
   "id": "1c2b900d-55bc-4378-8bc5-c66ae260c233",
   "metadata": {},
   "outputs": [],
   "source": []
  },
  {
   "cell_type": "code",
   "execution_count": null,
   "id": "7f94a6fd-0f90-4a8d-9e2b-a322b5a6514c",
   "metadata": {},
   "outputs": [],
   "source": []
  },
  {
   "cell_type": "markdown",
   "id": "0e7840f3-ce03-4346-ba45-a9aabe6bc856",
   "metadata": {},
   "source": [
    "### References"
   ]
  },
  {
   "cell_type": "markdown",
   "id": "3d352319-8e14-49f5-8331-58505beef76e",
   "metadata": {},
   "source": [
    "***!!!DELETE***\n",
    "\n",
    "At least two citations of literature relevant to the project. The citation format is your choice – just be consistent. Make sure to cite the source of your data as well."
   ]
  },
  {
   "cell_type": "markdown",
   "id": "ce367727-5d19-4278-8137-aa84d1a19cde",
   "metadata": {},
   "source": []
  },
  {
   "cell_type": "markdown",
   "id": "5adb6fd3-de40-4b16-a653-a2e0b9521519",
   "metadata": {},
   "source": []
  }
 ],
 "metadata": {
  "kernelspec": {
   "display_name": "R",
   "language": "R",
   "name": "ir"
  },
  "language_info": {
   "codemirror_mode": "r",
   "file_extension": ".r",
   "mimetype": "text/x-r-source",
   "name": "R",
   "pygments_lexer": "r",
   "version": "4.1.0"
  }
 },
 "nbformat": 4,
 "nbformat_minor": 5
}

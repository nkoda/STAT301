{
 "cells": [
  {
   "cell_type": "markdown",
   "id": "11475618-1706-4aa0-b053-f63c4319cee0",
   "metadata": {},
   "source": [
    "# Project Proposal\n"
   ]
  },
  {
   "cell_type": "markdown",
   "id": "0206ae45-1652-48cf-b0a3-8a70aa362d4f",
   "metadata": {},
   "source": [
    "**Yiou Long, Nikko Dumrique, Andres Zepeda, Medha \t\n",
    "Singh**"
   ]
  },
  {
   "cell_type": "markdown",
   "id": "0b3eaeb3-d0ea-4615-ba31-0bcd48240e95",
   "metadata": {},
   "source": [
    "### Introduction"
   ]
  },
  {
   "cell_type": "code",
   "execution_count": null,
   "id": "ed005666-7689-4ed9-b3a2-56301ace8613",
   "metadata": {},
   "outputs": [],
   "source": []
  },
  {
   "cell_type": "code",
   "execution_count": null,
   "id": "214cb8a0-ee81-40c6-87aa-cf94ee3c5781",
   "metadata": {},
   "outputs": [],
   "source": []
  },
  {
   "cell_type": "code",
   "execution_count": null,
   "id": "7db38217-111d-4f0f-b807-ca2d95b4ebdd",
   "metadata": {},
   "outputs": [],
   "source": []
  },
  {
   "cell_type": "markdown",
   "id": "d898dd17-b635-4396-b05a-d515a0ef2571",
   "metadata": {},
   "source": [
    "### Exploratory Data Analysis (EDA)"
   ]
  },
  {
   "cell_type": "code",
   "execution_count": null,
   "id": "59ce8a99-8040-4362-bee1-51cf3d64ae30",
   "metadata": {},
   "outputs": [],
   "source": []
  },
  {
   "cell_type": "code",
   "execution_count": null,
   "id": "8d65c438-3d8b-4142-910e-de17b38e921f",
   "metadata": {},
   "outputs": [],
   "source": []
  },
  {
   "cell_type": "code",
   "execution_count": null,
   "id": "a95a518f-c35e-49be-a592-d727dc1b85f3",
   "metadata": {},
   "outputs": [],
   "source": []
  },
  {
   "cell_type": "markdown",
   "id": "8652618e-9ac6-4def-ad67-f3d0b908d217",
   "metadata": {},
   "source": [
    "### Methods: Plan"
   ]
  },
  {
   "cell_type": "code",
   "execution_count": null,
   "id": "fb326c42-284c-432f-837e-2a80d0889345",
   "metadata": {},
   "outputs": [],
   "source": []
  },
  {
   "cell_type": "code",
   "execution_count": null,
   "id": "1c2b900d-55bc-4378-8bc5-c66ae260c233",
   "metadata": {},
   "outputs": [],
   "source": []
  },
  {
   "cell_type": "code",
   "execution_count": null,
   "id": "7f94a6fd-0f90-4a8d-9e2b-a322b5a6514c",
   "metadata": {},
   "outputs": [],
   "source": []
  },
  {
   "cell_type": "markdown",
   "id": "0e7840f3-ce03-4346-ba45-a9aabe6bc856",
   "metadata": {},
   "source": [
    "### References"
   ]
  },
  {
   "cell_type": "markdown",
   "id": "ce367727-5d19-4278-8137-aa84d1a19cde",
   "metadata": {},
   "source": []
  },
  {
   "cell_type": "markdown",
   "id": "5adb6fd3-de40-4b16-a653-a2e0b9521519",
   "metadata": {},
   "source": []
  }
 ],
 "metadata": {
  "kernelspec": {
   "display_name": "R",
   "language": "R",
   "name": "ir"
  },
  "language_info": {
   "codemirror_mode": "r",
   "file_extension": ".r",
   "mimetype": "text/x-r-source",
   "name": "R",
   "pygments_lexer": "r",
   "version": "4.1.0"
  }
 },
 "nbformat": 4,
 "nbformat_minor": 5
}
